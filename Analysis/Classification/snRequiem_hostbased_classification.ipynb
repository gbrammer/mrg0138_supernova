{
 "cells": [
  {
   "cell_type": "markdown",
   "id": "cubic-coffee",
   "metadata": {},
   "source": [
    "## Classifying the SN Requiem SN sub-class based on host galaxy properties"
   ]
  },
  {
   "cell_type": "code",
   "execution_count": 7,
   "id": "embedded-salon",
   "metadata": {},
   "outputs": [],
   "source": [
    "import os\n",
    "import numpy as np\n",
    "\n",
    "from matplotlib import pyplot as plt\n",
    "\n",
    "from astropy.io import fits\n",
    "from astropy.table import QTable, Table\n",
    "from astropy import units as u\n",
    "from astropy import constants\n",
    "\n",
    "from astropy.cosmology import FlatLambdaCDM\n",
    "cosmo = FlatLambdaCDM(H0=70, Om0=0.3, Ob0=0.05)\n",
    "\n",
    "import sncosmo\n",
    "from scipy import integrate as scint\n",
    "\n",
    "cgsfluxdensity = u.erg / u.Angstrom / u.cm**2 / u.s"
   ]
  },
  {
   "cell_type": "code",
   "execution_count": 8,
   "id": "latin-staff",
   "metadata": {},
   "outputs": [],
   "source": [
    "import importlib\n",
    "import snRequiem_host_based_classification as hostclass\n",
    "from astropy.visualization import quantity_support"
   ]
  },
  {
   "cell_type": "code",
   "execution_count": 9,
   "id": "naughty-institute",
   "metadata": {},
   "outputs": [
    {
     "data": {
      "text/plain": [
       "<astropy.visualization.units.quantity_support.<locals>.MplQuantityConverter at 0x7fac22ef75d0>"
      ]
     },
     "execution_count": 9,
     "metadata": {},
     "output_type": "execute_result"
    }
   ],
   "source": [
    "quantity_support()"
   ]
  },
  {
   "cell_type": "code",
   "execution_count": 87,
   "id": "dirty-profit",
   "metadata": {},
   "outputs": [
    {
     "data": {
      "text/plain": [
       "<module 'snRequiem_host_based_classification' from '/Users/rodney/Dropbox/src/snRequiem/Analysis/Classification/snRequiem_host_based_classification.py'>"
      ]
     },
     "execution_count": 87,
     "metadata": {},
     "output_type": "execute_result"
    }
   ],
   "source": [
    "importlib.reload(hostclass)"
   ]
  },
  {
   "cell_type": "code",
   "execution_count": 88,
   "id": "discrete-representative",
   "metadata": {},
   "outputs": [],
   "source": [
    "phot = hostclass.ObservedPhotometry()\n",
    "templ = hostclass.TemplateSED()\n",
    "sed = hostclass.ObservedSED()"
   ]
  },
  {
   "cell_type": "code",
   "execution_count": 91,
   "id": "neutral-paraguay",
   "metadata": {},
   "outputs": [
    {
     "data": {
      "text/plain": [
       "<matplotlib.legend.Legend at 0x7fac257313d0>"
      ]
     },
     "execution_count": 91,
     "metadata": {},
     "output_type": "execute_result"
    },
    {
     "data": {
      "image/png": "[encoded data removed]",
      "text/plain": [
       "<Figure size 432x288 with 1 Axes>"
      ]
     },
     "metadata": {
      "needs_background": "light"
     },
     "output_type": "display_data"
    }
   ],
   "source": [
    "w1,f1,ferr1 = phot.observed_host_phot(1)\n",
    "w2,f2,ferr2 = phot.observed_host_phot(2)\n",
    "w3,f3,ferr3 = phot.observed_host_phot(3)\n",
    "plt.errorbar(w1, f1, ferr1, marker='v', color='g', ls=' ', label='Image 1')\n",
    "plt.errorbar(w2, f2, ferr2, marker='o', color='b', ls=' ', label='Image 2')\n",
    "plt.errorbar(w3, f3, ferr3, marker='s', color='r', ls=' ', label='Image 3')\n",
    "plt.plot(sed.wave, sed.fnu, marker='d', mfc='w', mec='k', ls=' ', label='previous')\n",
    "plt.plot(templ.wave, templ.fnu, marker=' ', ls='-', color='k', alpha=0.5, label='SED fit')\n",
    "\n",
    "ax = plt.gca()\n",
    "ax.set_xlim(2000, 50000)\n",
    "ax.set_ylim(1e-9,1.5e-3)\n",
    "ax.legend()"
   ]
  },
  {
   "cell_type": "code",
   "execution_count": 92,
   "id": "proud-navigation",
   "metadata": {},
   "outputs": [
    {
     "name": "stdout",
     "output_type": "stream",
     "text": [
      "-30.01278862275315\n",
      "-31.777424386220694\n",
      "1.7646357634675454\n"
     ]
    },
    {
     "data": {
      "text/plain": [
       "(None, None, None)"
      ]
     },
     "execution_count": 92,
     "metadata": {},
     "output_type": "execute_result"
    }
   ],
   "source": [
    "# Get the absolute B and K band mags, applying a magnification correction of 8.3 (image 2)\n",
    "\n",
    "B = templ.get_absolute_magnitude('B', zobs=1.95, mu=8.3)\n",
    "K = templ.get_absolute_magnitude('K', zobs=1.95, mu=8.3)\n",
    "\n",
    "print(B), print(K), print(B-K)"
   ]
  }
 ],
 "metadata": {
  "kernelspec": {
   "display_name": "Python 3",
   "language": "python",
   "name": "python3"
  },
  "language_info": {
   "codemirror_mode": {
    "name": "ipython",
    "version": 3
   },
   "file_extension": ".py",
   "mimetype": "text/x-python",
   "name": "python",
   "nbconvert_exporter": "python",
   "pygments_lexer": "ipython3",
   "version": "3.7.9"
  }
 },
 "nbformat": 4,
 "nbformat_minor": 5
}
