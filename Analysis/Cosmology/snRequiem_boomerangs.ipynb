{
 "cells": [
  {
   "cell_type": "code",
   "execution_count": 1,
   "metadata": {},
   "outputs": [],
   "source": [
    "from matplotlib import pyplot as plt\n",
    "import numpy as np\n",
    "from scipy.integrate import quad\n",
    "from matplotlib import ticker, rcParams\n",
    "\n",
    "# wrote the E(z) integrations explicitly... \n",
    "#  ... maybe could be faster with astropy?\n",
    "# from astropy import cosmology as cosmo\n",
    "\n",
    "# MCMC approach abandoned\n",
    "#import emcee\n",
    "#import corner"
   ]
  },
  {
   "cell_type": "code",
   "execution_count": 2,
   "metadata": {},
   "outputs": [],
   "source": [
    "# SR's personal plotting setup function.  Shortcut to replace rcParams settings in next cell\n",
    "# from pytools import plotsetup\n",
    "# plotsetup.paperfig()"
   ]
  },
  {
   "cell_type": "code",
   "execution_count": 3,
   "metadata": {},
   "outputs": [],
   "source": [
    "rcParams['text.usetex'] = True\n",
    "rcParams['figure.figsize']=[6,4]\n",
    "rcParams['font.size']=12    # text big enough for a half-page fig\n",
    "rcParams['axes.labelsize'] = 12      # fontsize of the x and y labels\n",
    "rcParams['axes.titlesize'] = 12      # fontsize of the axes title\n",
    "rcParams['xtick.labelsize'] = 12      # fontsize of the x and y labels\n",
    "rcParams['ytick.labelsize'] = 12      # fontsize of the x and y labels\n",
    "rcParams['lines.linewidth']=1.5\n",
    "rcParams['lines.color']='k'     # thicker black lines \n",
    "rcParams['lines.markersize']=6\n",
    "rcParams['lines.markeredgewidth']=1.     # big fat points\n",
    "rcParams['axes.linewidth']=1.\n",
    "rcParams['xtick.labelsize'] = 12\n",
    "rcParams['ytick.labelsize'] = 12\n",
    "rcParams['xtick.major.width'] = 1.5      # major tick thickness in points\n",
    "rcParams['xtick.minor.width'] = 1.2      # major tick thickness in points\n",
    "rcParams['xtick.major.size'] = 6      # major tick size in points\n",
    "rcParams['xtick.minor.size'] = 4      # minor tick size in points\n",
    "rcParams['xtick.major.pad'] = 5      # distance to major tick label in points\n",
    "rcParams['xtick.minor.pad'] = 5      # distance to the minor tick label in points\n",
    "rcParams['ytick.major.width'] = 1.5      # major tick thickness in points\n",
    "rcParams['ytick.minor.width'] = 1.2      # major tick thickness in points\n",
    "rcParams['ytick.major.size'] = 6      # major tick size in points\n",
    "rcParams['ytick.minor.size'] = 4      # minor tick size in points\n",
    "rcParams['ytick.major.pad'] = 5      # distance to major tick label in points\n",
    "rcParams['ytick.minor.pad'] = 5      # distance to the minor tick label in points\n",
    "rcParams['xtick.direction'] = 'in'\n",
    "rcParams['ytick.direction'] = 'in'"
   ]
  },
  {
   "cell_type": "code",
   "execution_count": 4,
   "metadata": {},
   "outputs": [],
   "source": [
    "# Define the \"true\" cosmology: flat w0waCDM\n",
    "# Om0 = 0.3\n",
    "# Ode0 = 0.7\n",
    "# w0true=-1.\n",
    "# watrue=0.\n",
    "#H0=70    # this is puzzling: C&M09 show H0 dependence in their contours, but I don't see how...\n",
    "# cosmo_true = cosmo.w0waCDM(H0=H0, Om0=Om0, Ode0=Ode0, w0=w0true, wa=watrue)"
   ]
  },
  {
   "cell_type": "markdown",
   "metadata": {},
   "source": [
    "## Cosmology Functions \n",
    "for computing the normalized hubble parameter E(z) = H(z)/H0 and ratios thereof"
   ]
  },
  {
   "cell_type": "code",
   "execution_count": 5,
   "metadata": {},
   "outputs": [],
   "source": [
    "def EA(z1, z2, Om0, w0, wa):\n",
    "    \"\"\"The integral of the inverse of the normalized \n",
    "    Hubble parameter, from z1 to z2:  int_z1^z2{1/E(z')dz}\n",
    "    Eq 8 of Coe & Moustakas 2009.\n",
    "    Assuming a flat universe.\"\"\"\n",
    "    \n",
    "    Ode0 = 1-Om0 # assuming flat universe\n",
    "    #if w0>-0.3 or w0<-2:\n",
    "    #    result = -np.inf\n",
    "    #elif np.abs(wa)>5:\n",
    "    #    result = -np.inf\n",
    "    #else:\n",
    "    Ez2 = lambda z: ( Om0*(1+z)**3 + \n",
    "                     Ode0*(1+z)**(3*(1+w0+wa)) * \n",
    "                     np.exp(-3*wa*z/(1+z)) )\n",
    "    Ezinv = lambda z: 1 / np.sqrt(Ez2(z))\n",
    "    # if Ez2(z1)>0 and Ez2(z2)>0:\n",
    "    result, precision = quad(Ezinv, z1, z2)\n",
    "    #else:\n",
    "    #    result = -np.inf\n",
    "    return(result)"
   ]
  },
  {
   "cell_type": "code",
   "execution_count": 6,
   "metadata": {},
   "outputs": [],
   "source": [
    "def Eratio(zl, zs, Om0, w0, wa):\n",
    "    \"\"\"The time delay expansion function ratio \n",
    "    (script E, eq 12 in Coe & Moustakas 2009).\n",
    "    Assuming a flat universe.\"\"\"\n",
    "    EL = EA(0,zl, Om0, w0, wa)\n",
    "    ES = EA(0,zs, Om0, w0, wa)\n",
    "    ELS = EA(zl, zs, Om0, w0, wa)\n",
    "\n",
    "    #if EL<=0 or ES<=0 or ELS<=0:\n",
    "    #    Erat = -np.inf\n",
    "    #else:\n",
    "    Erat = EL * ES / ELS\n",
    "    return(Erat)"
   ]
  },
  {
   "cell_type": "code",
   "execution_count": 7,
   "metadata": {},
   "outputs": [],
   "source": [
    "def Evariance(Erat, dTc):\n",
    "    \"\"\"The variance on the E ratio due to the \n",
    "    time delay and lens potential uncertainty. \n",
    "    dTc : percent uncertainty on time delay distance ratio \n",
    "        (combining time delay measurement + lens modeling error)  \n",
    "        (This is a percentage:  enter \"5\" for 5% precision)\n",
    "    \"\"\"\n",
    "    return( Erat**2 * (dTc/100.)**2 )\n",
    "\n",
    "\n",
    "def loglikelihoodE(w0wa, zl, zs, dTc=0.1, \n",
    "                   Om0=0.3, w0true=-1., watrue=0.): \n",
    "    \"\"\"log10(likelihood) for a time delay distance \n",
    "    ratio constraint, comparing \n",
    "    a given test point in w0,wa space to the true (w0,wa) position. \n",
    "    \n",
    "    w0wa: [w0,wa], the test point\n",
    "    zl : lens redshift\n",
    "    zs : source redshift\n",
    "    dTc : percent precision on cosmological distance ratio, combining\n",
    "       uncertainty from the time delay measurement + lens modeling\n",
    "    Om0, w0true, watrue : the true cosmology\n",
    "    \"\"\"\n",
    "    #Note: the Eratio function assumes a flat universe\n",
    "    Eratio_true = Eratio(zl, zs, Om0, w0true, watrue)\n",
    "    Eratio_w0wa = Eratio(zl, zs, Om0, w0wa[0], w0wa[1])\n",
    "\n",
    "    #if np.isfinite(Eratio_w0wa):\n",
    "    loglike = -0.5 * ( (Eratio_true-Eratio_w0wa)**2 / \n",
    "                      Evariance(Eratio_w0wa, dTc))\n",
    "    #else:\n",
    "    #    loglike = -np.inf\n",
    "    return(loglike)\n"
   ]
  },
  {
   "cell_type": "code",
   "execution_count": 8,
   "metadata": {},
   "outputs": [],
   "source": [
    "# This function is for turning the likelihood arrays into contours\n",
    "from copy import deepcopy\n",
    "def rescale_likelihood( a ):\n",
    "    \"\"\"\n",
    "    Rescale the likelihood array using \n",
    "    a Sorted Cumulative Sum function (e.g., for making contours)\n",
    "    Construct an array \"sumabove\" such that the cell \n",
    "    at index i in sumabove is equal to the sum of all \n",
    "    cells from the input array \"a\" that have a\n",
    "    cell value higher than a[i]\n",
    "    \"\"\"\n",
    "    # Collapse the array into 1 dimension\n",
    "    sumabove = deepcopy(a).ravel()\n",
    "\n",
    "    # Sort the raveled array by descending cell value\n",
    "    iravelsorted = sumabove.argsort( axis=0 )[::-1]\n",
    "\n",
    "    # Reassign each cell to be the cumulative sum of all\n",
    "    # input array cells with a higher value :\n",
    "    sumabove[iravelsorted] = sumabove[iravelsorted].cumsum()\n",
    "\n",
    "    # Normalize by the max value in the array\n",
    "    sumabove /= sumabove.max()\n",
    "\n",
    "    # Now unravel back into shape of original array and return\n",
    "    return( sumabove.reshape( a.shape ) )"
   ]
  },
  {
   "cell_type": "markdown",
   "metadata": {},
   "source": [
    "### A couple of test cells\n",
    "just for checking our work, Safe to skip / ignore (hence the 'if False')"
   ]
  },
  {
   "cell_type": "code",
   "execution_count": 9,
   "metadata": {},
   "outputs": [],
   "source": [
    "# Check that the E(z) functions are working. Should give different curves\n",
    "# for different lens redshifts\n",
    "w0true = -1\n",
    "watrue = 0\n",
    "\n",
    "if False: \n",
    "    for z1 in [0.3, 0.7, 1.0]:\n",
    "        z = np.arange(0, 2., 0.1)\n",
    "        EAz = np.array([EA(z1, z2, Om0, Ode0, w0true, watrue) for z2 in z])\n",
    "        plt.plot(z, EAz, ls='-', label='{:.1f}'.format(z1))"
   ]
  },
  {
   "cell_type": "code",
   "execution_count": 10,
   "metadata": {},
   "outputs": [],
   "source": [
    "if False:\n",
    "    # Check that the log(Likelihood) function is working.  Should give \n",
    "    # different curves at different fixed wa, slicing across\n",
    "    # the 'boomerang' from CM09 fig 10\n",
    "    walist = np.arange(-3, 3, 0.5)\n",
    "    w0list = np.arange(-2,0,0.05)\n",
    "    for wa in walist:\n",
    "        loglE = np.array([loglikelihoodE([w0, wa], zl_req, zs_req) for w0 in w0list])\n",
    "        plt.plot(w0list, loglE, label='wa={:.1f}'.format(wa))\n",
    "        plt.legend(loc='lower right')"
   ]
  },
  {
   "cell_type": "markdown",
   "metadata": {},
   "source": [
    "## Define the time delay precision from each survey\n",
    "\n",
    "Following Coe and Moustakas 2009 (see their Eq 10 and Fig 10) but adopting more recent predictions for the yield of multiply-imaged SNIa with good time delays from LSST (Huber+ 2019).   Note that all the uncertainties $\\delta T_L$, $\\delta T_T$ and $\\delta T_C$ are given as percentages.   So dTL = 5 means a 5% uncertainty on the time delay distance ration due to lens modeling uncertainty."
   ]
  },
  {
   "cell_type": "code",
   "execution_count": 16,
   "metadata": {},
   "outputs": [],
   "source": [
    "# LSST good time delays (following Huber+ 2019)\n",
    "lsst = {\n",
    "    'N':10,   # number of Lensed SNe Ia with good time delays\n",
    "    'dTL':5,  # % lens modeling uncertainty for each\n",
    "    'dTT':5,  # % time delay measurement uncertainty for each\n",
    "    'zl':0.3, 'zs':0.8 # lens and source redshift\n",
    "}\n",
    "\n",
    "# WFIRST : OM10 and Oguri (private communication)\n",
    "wfirst = {\n",
    "    'N':10,   # number of Lensed SNe Ia with good time delays\n",
    "    'dTL':5,  # % lens modeling uncertainty for each\n",
    "    'dTT':3,  # % time delay measurement uncertainty for each\n",
    "    'zl':0.8, 'zs':2.0 # lens and source redshift\n",
    "}\n",
    "    \n",
    "requiem = {\n",
    "    'N':1,   # number of Lensed SNe Ia with good time delays\n",
    "    'dTL':5,  # % lens modeling uncertainty for each\n",
    "    'dTT':0.1,  # % time delay measurement uncertainty for each\n",
    "    'zl':0.338, 'zs':1.95 # lens and source redshift\n",
    "}\n",
    "\n",
    "\n",
    "# For each survey, compute the net uncertainty on cosmological parameters\n",
    "# from time delays\n",
    "# (using a shortcut by just adding in quadrature and scaling by root N)\n",
    "for survey in [lsst, wfirst, requiem]:\n",
    "    dTL = survey['dTL']\n",
    "    dTT = survey['dTT']\n",
    "    N = survey['N']\n",
    "    survey['dTc'] = np.sqrt(dTL**2 + dTT**2) / np.sqrt(N)\n",
    "    "
   ]
  },
  {
   "cell_type": "markdown",
   "metadata": {},
   "source": [
    "## Compute the likelihood in w0, wa space\n",
    "Note that we are assuming perfect knowledge of H0 and Om, and assuming a flat universe. (Perhaps an optimistic view of the state of cosmology in 2035, but the purpose here is to show the constraining power of SN Requiem and how it is complementary to most of the lensed SN samples we expect from LSST and WFIRST."
   ]
  },
  {
   "cell_type": "code",
   "execution_count": 17,
   "metadata": {},
   "outputs": [],
   "source": [
    "# No MCMC here, just make a simple grid of w0, wa and compute the likelihood at each point\n",
    "w0list = np.arange(-1.3, -0.3, 0.02)\n",
    "walist = np.arange(-3, 3, 0.04)\n",
    "w0grid, wagrid = np.meshgrid(w0list, walist) \n",
    "\n",
    "for survey in [lsst, requiem, wfirst]:\n",
    "    loglE = np.array([[loglikelihoodE([\n",
    "        w0list[i], walist[j]], \n",
    "        survey['zl'], survey['zs'], survey['dTc'])\n",
    "                       for i in range(len(w0list))] \n",
    "                      for j in range(len(walist))])\n",
    "    likelihood = 10**loglE\n",
    "    like_rescaled = rescale_likelihood(likelihood)\n",
    "    survey['likelihood'] = like_rescaled"
   ]
  },
  {
   "cell_type": "markdown",
   "metadata": {},
   "source": [
    "## Plot the 1-sigma (68%) contours"
   ]
  },
  {
   "cell_type": "code",
   "execution_count": 19,
   "metadata": {},
   "outputs": [
    {
     "data": {
      "image/png": "[encoded data removed]",
      "text/plain": [
       "<Figure size 432x288 with 1 Axes>"
      ]
     },
     "metadata": {
      "needs_background": "light"
     },
     "output_type": "display_data"
    }
   ],
   "source": [
    "# To make sure we didn't switch up the input grids\n",
    "# and fail to re-run the likelihood calculation, lets \n",
    "# require that the shapes agree\n",
    "assert(w0grid.shape == wagrid.shape)\n",
    "assert(wagrid.shape == loglE.shape)\n",
    "\n",
    "fig = plt.figure(figsize=[6,4])\n",
    "ax = fig.add_subplot(1,1,1)\n",
    "\n",
    "for survey, color in zip([lsst, requiem, wfirst],\n",
    "                         ['b','m','r']):\n",
    "    \n",
    "    ax.contour(w0grid, wagrid, survey['likelihood'], colors=[color],\n",
    "               levels=[0.68])\n",
    "    if color=='m':\n",
    "        ax.contourf(w0grid, wagrid, survey['likelihood'], colors=[color],\n",
    "                    levels=[0,0.68], alpha=0.3)\n",
    "\n",
    "ax.plot(-1,0,marker='o', mec='k', mfc='w', ms=6)\n",
    "ax.axhline(0,ls='--', color='0.6', lw=0.8)\n",
    "ax.axvline(-1,ls='--', color='0.6', lw=0.8)\n",
    "\n",
    "ax.set_xlabel(\"$w_0$\", fontsize=20)\n",
    "ax.set_ylabel(\"$w_a$\", fontsize=20)\n",
    "\n",
    "plt.setp(ax.xaxis.get_ticklabels(), fontsize='large')\n",
    "plt.setp(ax.yaxis.get_ticklabels(), fontsize='large')\n",
    "\n",
    "ax.text(-1.2,2,\"SN Requiem:\\n$z_l$={:.2f}, $z_s$={:.2f}\".format(\n",
    "    requiem['zl'],requiem['zs']), color='m', ha='center', va='bottom', fontsize='large')\n",
    "ax.text(-1.35,-1,\"{:d} LSST\\nLSNe Ia:\\n$z_l$={:.2f}\\n$z_s$={:.2f}\".format(\n",
    "    lsst['N'], lsst['zl'],lsst['zs']), \n",
    "        color='b', ha='center',va='center', fontsize='large')\n",
    "\n",
    "ax.text(-0.6,-1.2,\"{:d} WFIRST\\nLSNe Ia:\\n$z_l$={:.2f}\\n$z_s$={:.2f}\".format(\n",
    "    wfirst['N'],wfirst['zl'],wfirst['zs']), \n",
    "        color='r', ha='center',va='center', fontsize='large')\n",
    "\n",
    "ax.xaxis.set_major_locator(ticker.MultipleLocator(0.2))\n",
    "ax.xaxis.set_minor_locator(ticker.MultipleLocator(0.1))\n",
    "\n",
    "ax.yaxis.set_major_locator(ticker.MultipleLocator(1))\n",
    "ax.yaxis.set_minor_locator(ticker.MultipleLocator(0.5))\n",
    "\n",
    "ax.set_xlim(-1.5,-0.4)\n",
    "ax.set_ylim(-3,3)\n",
    "\n",
    "plt.tight_layout()\n",
    "plt.savefig(\"/Users/rodney/Dropbox/Apps/Overleaf/mrg0138_supernova/Paper/Figures/snrequiem_w0wa_compared_to_lsst_wfirst.pdf\")"
   ]
  },
  {
   "cell_type": "markdown",
   "metadata": {},
   "source": [
    "# The remainder of this is not really needed\n",
    "\n",
    "kept here for posterity"
   ]
  },
  {
   "cell_type": "markdown",
   "metadata": {},
   "source": [
    "### TESTING the contour plotting with a 2-D Gaussian"
   ]
  },
  {
   "cell_type": "code",
   "execution_count": null,
   "metadata": {},
   "outputs": [],
   "source": [
    "# define a 2-D gaussian\n",
    "from scipy.stats import multivariate_normal\n",
    "\n",
    "# Our 2-dimensional distribution will be over variables w0 and wa\n",
    "# Pack w0 and wa into a single 3-dimensional array\n",
    "pos = np.empty(w0grid.shape + (2,))\n",
    "pos[:, :, 0] = w0grid\n",
    "pos[:, :, 1] = wagrid\n",
    "\n",
    "# Mean vector and covariance matrix\n",
    "mu = np.array([-1., 0.])\n",
    "Sigma = np.array([[ 1. , -0.5], [-0.5,  1.5]])\n",
    "\n",
    "F = multivariate_normal(mu, Sigma)\n",
    "Z = F.pdf(pos)\n",
    "\n",
    "fig = plt.figure(figsize=[6,6])\n",
    "ax = fig.add_subplot(1,1,1)\n",
    "\n",
    "plt.imshow(Z, aspect='auto', origin='bottom', extent=[-2,-0.3,-3,3], interpolation='nearest')\n",
    "plt.colorbar()\n",
    "\n",
    "Z /= Z.sum()\n",
    "Zscaled = (Z-Z.min())/(Z.max()-Z.min())\n",
    "#Zscaled = (Z)/(Z.sum())\n",
    "ax.contour(w0grid, wagrid, Zscaled, colors=['m','k','r'], levels=[0.68,0.84, 0.95])\n",
    "#ax.contour(w0grid, wagrid, Z, colors=['m','k','r'], levels=[0.68,0.84, 0.95])\n",
    "\n",
    "print(Z.sum())\n",
    "print(Zscaled.sum())"
   ]
  },
  {
   "cell_type": "markdown",
   "metadata": {},
   "source": [
    "# Alternate likelihood calc: using MCMC\n",
    "(This is not working, and I don't know why)"
   ]
  },
  {
   "cell_type": "code",
   "execution_count": null,
   "metadata": {},
   "outputs": [],
   "source": [
    "# Set up the emcee Ensemble Sampler for SN Requiem\n",
    "\n",
    "snReqparams = [zl_req, zs_req, dtpct_req, dphipct_req, Om0, Ode0, w0true, watrue]\n",
    "nwalkers=64\n",
    "ndim=2\n",
    "sampler = emcee.EnsembleSampler(nwalkers, ndim, loglikelihoodE, \n",
    "                                args=snReqparams)\n",
    "\n",
    "# and an array of initial positions for the walkers\n",
    "w0wa_init = np.random.random(size=(nwalkers,ndim))\n",
    "w0wa_init[:,0] = w0wa_init[:,0] * -2\n",
    "w0wa_init[:,1] = w0wa_init[:,1] * -6 + 3"
   ]
  },
  {
   "cell_type": "code",
   "execution_count": null,
   "metadata": {},
   "outputs": [],
   "source": [
    "# check that the initial positions of the walkers are \n",
    "# sampling the w0,wa space as we expect\n",
    "plt.scatter(w0wa_init[:,0], w0wa_init[:,1]) "
   ]
  },
  {
   "cell_type": "code",
   "execution_count": null,
   "metadata": {},
   "outputs": [],
   "source": [
    "# Run the sampler with a 'burn-in' series of 200 steps\n",
    "state = sampler.run_mcmc(w0wa_init, 200)\n",
    "sampler.reset()"
   ]
  },
  {
   "cell_type": "code",
   "execution_count": null,
   "metadata": {},
   "outputs": [],
   "source": [
    "# Do the 'production run' starting from the end-point of the burn-in state\n",
    "final_state = sampler.run_mcmc(state, 10000)"
   ]
  },
  {
   "cell_type": "code",
   "execution_count": null,
   "metadata": {},
   "outputs": [],
   "source": [
    "# scatter plot of the sampling chain:\n",
    "samples = sampler.get_chain(flat=True)\n",
    "plt.plot(samples[:,0], samples[:,1], marker='.', ls=' ', alpha=0.3)\n",
    "ax = plt.gca()\n",
    "ax.set_xlim(-2, 0)\n",
    "ax.set_ylim(-3, 3)"
   ]
  },
  {
   "cell_type": "code",
   "execution_count": null,
   "metadata": {},
   "outputs": [],
   "source": [
    "# Make a corner plot\n",
    "samples = sampler.get_chain(flat=True)\n",
    "figure = corner.corner(samples)"
   ]
  }
 ],
 "metadata": {
  "kernelspec": {
   "display_name": "Python 3",
   "language": "python",
   "name": "python3"
  },
  "language_info": {
   "codemirror_mode": {
    "name": "ipython",
    "version": 3
   },
   "file_extension": ".py",
   "mimetype": "text/x-python",
   "name": "python",
   "nbconvert_exporter": "python",
   "pygments_lexer": "ipython3",
   "version": "3.7.6"
  }
 },
 "nbformat": 4,
 "nbformat_minor": 4
}
